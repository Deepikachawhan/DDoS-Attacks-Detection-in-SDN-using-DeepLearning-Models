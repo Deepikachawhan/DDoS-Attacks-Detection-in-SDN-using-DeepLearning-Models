{
  "nbformat": 4,
  "nbformat_minor": 0,
  "metadata": {
    "colab": {
      "provenance": []
    },
    "kernelspec": {
      "name": "python3",
      "display_name": "Python 3"
    },
    "language_info": {
      "name": "python"
    }
  },
  "cells": [
    {
      "cell_type": "code",
      "execution_count": null,
      "metadata": {
        "id": "8aa9cUd9A6vT"
      },
      "outputs": [],
      "source": [
        "import pandas as pd\n",
        "import numpy as np\n",
        "import matplotlib.pyplot as plt\n",
        "import seaborn as sns\n",
        "from sklearn.preprocessing import StandardScaler, LabelEncoder\n",
        "from sklearn.model_selection import train_test_split\n",
        "from sklearn.metrics import accuracy_score, confusion_matrix, classification_report\n",
        "import torch\n",
        "import torch.nn as nn\n",
        "import torch.optim as optim"
      ]
    },
    {
      "cell_type": "code",
      "source": [
        "from google.colab import drive\n",
        "drive.mount('/content/drive')"
      ],
      "metadata": {
        "colab": {
          "base_uri": "https://localhost:8080/"
        },
        "id": "5BxlBCNNhAWk",
        "outputId": "463ba604-ca60-4322-db72-f864aad15597"
      },
      "execution_count": null,
      "outputs": [
        {
          "output_type": "stream",
          "name": "stdout",
          "text": [
            "Drive already mounted at /content/drive; to attempt to forcibly remount, call drive.mount(\"/content/drive\", force_remount=True).\n"
          ]
        }
      ]
    },
    {
      "cell_type": "code",
      "source": [
        "# Load dataset\n",
        "file_path = '/content/drive/MyDrive/Minor_project6thsem/Datasets/DDOS SDN TREE TORUS /DDoS-SDN-Torus.csv'\n",
        "df = pd.read_csv(file_path, low_memory=False)\n"
      ],
      "metadata": {
        "id": "U2p-zIRKhgtf"
      },
      "execution_count": null,
      "outputs": []
    },
    {
      "cell_type": "code",
      "source": [
        "#  Preprocessing: Convert commas to dots & convert numeric columns\n",
        "for col in df.columns:\n",
        "    df[col] = df[col].astype(str).str.replace(',', '.')  # Fix decimal format\n",
        "    try:\n",
        "        df[col] = df[col].astype(float)  # Convert to float if possible\n",
        "    except ValueError:\n",
        "        pass  # Skip non-numeric columns"
      ],
      "metadata": {
        "id": "gcEAK9c2hhJR"
      },
      "execution_count": null,
      "outputs": []
    },
    {
      "cell_type": "code",
      "source": [
        "#  Label Encoding for categorical target variable\n",
        "if 'label' in df.columns:\n",
        "    le = LabelEncoder()\n",
        "    df['label'] = le.fit_transform(df['label'])  # Encode labels\n"
      ],
      "metadata": {
        "id": "40NEKfWghrj1"
      },
      "execution_count": null,
      "outputs": []
    },
    {
      "cell_type": "code",
      "source": [
        "# Visualize Class Distribution\n",
        "plt.figure(figsize=(6, 4))\n",
        "sns.countplot(x=df['label'], palette=\"coolwarm\")\n",
        "plt.title(\"Class Distribution of Labels\")\n",
        "plt.xlabel(\"Class\")\n",
        "plt.ylabel(\"Count\")\n",
        "plt.show()"
      ],
      "metadata": {
        "colab": {
          "base_uri": "https://localhost:8080/",
          "height": 521
        },
        "id": "2rDGUYAXiALF",
        "outputId": "788416f0-d306-47bc-9f7b-7fd385ea80a6"
      },
      "execution_count": null,
      "outputs": [
        {
          "output_type": "stream",
          "name": "stderr",
          "text": [
            "<ipython-input-83-b997d77631fc>:3: FutureWarning: \n",
            "\n",
            "Passing `palette` without assigning `hue` is deprecated and will be removed in v0.14.0. Assign the `x` variable to `hue` and set `legend=False` for the same effect.\n",
            "\n",
            "  sns.countplot(x=df['label'], palette=\"coolwarm\")\n"
          ]
        },
        {
          "output_type": "display_data",
          "data": {
            "text/plain": [
              "<Figure size 600x400 with 1 Axes>"
            ],
            "image/png": "[encoded data removed]"
          },
          "metadata": {}
        }
      ]
    },
    {
      "cell_type": "code",
      "source": [
        "#  Train-Test Split\n",
        "X = df.drop(columns=['label'])  # Features\n",
        "y = df['label']  # Target\n",
        "X_train, X_test, y_train, y_test = train_test_split(X, y, test_size=0.2, random_state=42, stratify=y)"
      ],
      "metadata": {
        "id": "Ocv5xYdtkBDR"
      },
      "execution_count": null,
      "outputs": []
    },
    {
      "cell_type": "code",
      "source": [
        "from sklearn.preprocessing import StandardScaler\n",
        "\n",
        "# 🔹 Drop non-numeric columns\n",
        "X_train_numeric = X_train.select_dtypes(include=['number'])\n",
        "X_test_numeric = X_test.select_dtypes(include=['number'])\n",
        "\n",
        "# 🔹 Apply StandardScaler\n",
        "scaler = StandardScaler()\n",
        "X_train_scaled = scaler.fit_transform(X_train_numeric)\n",
        "X_test_scaled = scaler.transform(X_test_numeric)\n"
      ],
      "metadata": {
        "id": "HDzmiLDJkCwn"
      },
      "execution_count": null,
      "outputs": []
    },
    {
      "cell_type": "code",
      "source": [
        "import pandas as pd\n",
        "import numpy as np\n",
        "\n",
        "# 🔹 Convert all non-numeric columns using Label Encoding\n",
        "for col in X_train.select_dtypes(include=['object']).columns:\n",
        "    X_train[col] = X_train[col].astype('category').cat.codes\n",
        "    X_test[col] = X_test[col].astype('category').cat.codes\n",
        "\n",
        "# 🔹 Convert DataFrame to NumPy array\n",
        "X_train_np = X_train.to_numpy(dtype=np.float32)\n",
        "X_test_np = X_test.to_numpy(dtype=np.float32)\n",
        "\n",
        "# 🔹 Convert to PyTorch tensors\n",
        "X_train_tensor = torch.tensor(X_train_np, dtype=torch.float32)\n",
        "X_test_tensor = torch.tensor(X_test_np, dtype=torch.float32)\n",
        "y_train_tensor = torch.tensor(y_train.values, dtype=torch.long)\n",
        "y_test_tensor = torch.tensor(y_test.values, dtype=torch.long)\n"
      ],
      "metadata": {
        "id": "MAQwxfaRkGgk"
      },
      "execution_count": null,
      "outputs": []
    },
    {
      "cell_type": "code",
      "source": [
        "# Define Neural Network for Federated Learning\n",
        "class FL_Model(nn.Module):\n",
        "    def __init__(self, input_size, num_classes):\n",
        "        super(FL_Model, self).__init__()\n",
        "        self.fc1 = nn.Linear(input_size, 128)\n",
        "        self.relu = nn.ReLU()\n",
        "        self.fc2 = nn.Linear(128, 64)\n",
        "        self.fc3 = nn.Linear(64, num_classes)\n",
        "\n",
        "    def forward(self, x):\n",
        "        x = self.relu(self.fc1(x))\n",
        "        x = self.relu(self.fc2(x))\n",
        "        x = self.fc3(x)\n",
        "        return x"
      ],
      "metadata": {
        "id": "UuhaayVxkYnP"
      },
      "execution_count": null,
      "outputs": []
    },
    {
      "cell_type": "code",
      "source": [
        "# Initialize Model\n",
        "input_size = X_train.shape[1]\n",
        "num_classes = len(np.unique(y))\n",
        "model = FL_Model(input_size, num_classes)"
      ],
      "metadata": {
        "id": "H1yOx9yhk5wS"
      },
      "execution_count": null,
      "outputs": []
    },
    {
      "cell_type": "code",
      "source": [
        "# Define Loss and Optimizer\n",
        "criterion = nn.CrossEntropyLoss()\n",
        "optimizer = optim.Adam(model.parameters(), lr=0.001)"
      ],
      "metadata": {
        "id": "UuKmS8Whk8ro"
      },
      "execution_count": null,
      "outputs": []
    },
    {
      "cell_type": "code",
      "source": [
        "# Train Model\n",
        "epochs = 10\n",
        "train_losses = []\n",
        "for epoch in range(epochs):\n",
        "    optimizer.zero_grad()\n",
        "    outputs = model(X_train_tensor)\n",
        "    loss = criterion(outputs, y_train_tensor)\n",
        "    loss.backward()\n",
        "    optimizer.step()\n",
        "\n",
        "    train_losses.append(loss.item())\n",
        "    print(f\"Epoch [{epoch+1}/{epochs}], Loss: {loss.item():.4f}\")\n"
      ],
      "metadata": {
        "colab": {
          "base_uri": "https://localhost:8080/"
        },
        "id": "gvOXd4WllAE6",
        "outputId": "17eb892b-bafa-45cd-cd13-6f1034bdf753"
      },
      "execution_count": null,
      "outputs": [
        {
          "output_type": "stream",
          "name": "stdout",
          "text": [
            "Epoch [1/10], Loss: 5873788416.0000\n",
            "Epoch [2/10], Loss: 2183490048.0000\n",
            "Epoch [3/10], Loss: 1764255360.0000\n",
            "Epoch [4/10], Loss: 490620224.0000\n",
            "Epoch [5/10], Loss: 536328288.0000\n",
            "Epoch [6/10], Loss: 550004224.0000\n",
            "Epoch [7/10], Loss: 559232192.0000\n",
            "Epoch [8/10], Loss: 562003264.0000\n",
            "Epoch [9/10], Loss: 554132416.0000\n",
            "Epoch [10/10], Loss: 548711936.0000\n"
          ]
        }
      ]
    },
    {
      "cell_type": "code",
      "source": [
        "# 🔹 12. Evaluate Model\n",
        "with torch.no_grad():\n",
        "    y_pred = model(X_test_tensor)\n",
        "    y_pred_classes = torch.argmax(y_pred, dim=1)\n"
      ],
      "metadata": {
        "id": "ZdXk3R3-lHO_"
      },
      "execution_count": null,
      "outputs": []
    },
    {
      "cell_type": "code",
      "source": [
        "# Compute Accuracy\n",
        "accuracy = accuracy_score(y_test, y_pred_classes.numpy())\n",
        "print(f\"✅ Model Accuracy: {accuracy:.4f}\")"
      ],
      "metadata": {
        "colab": {
          "base_uri": "https://localhost:8080/"
        },
        "id": "4FCiV_nHlOxt",
        "outputId": "5194595c-8c51-4ac5-c716-d8b6f4fb41bd"
      },
      "execution_count": null,
      "outputs": [
        {
          "output_type": "stream",
          "name": "stdout",
          "text": [
            "✅ Model Accuracy: 0.7507\n"
          ]
        }
      ]
    },
    {
      "cell_type": "code",
      "source": [
        "# Classification Report\n",
        "print(\"\\n📊 Classification Report:\\n\", classification_report(y_test, y_pred_classes.numpy()))"
      ],
      "metadata": {
        "colab": {
          "base_uri": "https://localhost:8080/"
        },
        "id": "THJzaKsTlQjt",
        "outputId": "dbc59bd7-6a69-44db-990d-04ada3587483"
      },
      "execution_count": null,
      "outputs": [
        {
          "output_type": "stream",
          "name": "stdout",
          "text": [
            "\n",
            "📊 Classification Report:\n",
            "               precision    recall  f1-score   support\n",
            "\n",
            "           0       0.69      0.84      0.76     15515\n",
            "           1       0.83      0.68      0.74     17800\n",
            "\n",
            "    accuracy                           0.75     33315\n",
            "   macro avg       0.76      0.76      0.75     33315\n",
            "weighted avg       0.76      0.75      0.75     33315\n",
            "\n"
          ]
        }
      ]
    },
    {
      "cell_type": "code",
      "source": [
        "# Plot Confusion Matrix\n",
        "cm = confusion_matrix(y_test, y_pred_classes.numpy())\n",
        "plt.figure(figsize=(6, 4))\n",
        "sns.heatmap(cm, annot=True, fmt='d', cmap=\"Blues\", xticklabels=np.unique(y), yticklabels=np.unique(y))\n",
        "plt.xlabel(\"Predicted\")\n",
        "plt.ylabel(\"Actual\")\n",
        "plt.title(\"Confusion Matrix\")\n",
        "plt.show()"
      ],
      "metadata": {
        "colab": {
          "base_uri": "https://localhost:8080/",
          "height": 410
        },
        "id": "9pvDH3u6lTH5",
        "outputId": "79dede8a-1fc6-4964-f9be-e1bf3c08a694"
      },
      "execution_count": null,
      "outputs": [
        {
          "output_type": "display_data",
          "data": {
            "text/plain": [
              "<Figure size 600x400 with 2 Axes>"
            ],
            "image/png": "[encoded data removed]"
          },
          "metadata": {}
        }
      ]
    },
    {
      "cell_type": "code",
      "source": [
        "#  Plot Loss Curve\n",
        "plt.figure(figsize=(6, 4))\n",
        "plt.plot(train_losses, label=\"Training Loss\", color='r')\n",
        "plt.xlabel(\"Epochs\")\n",
        "plt.ylabel(\"Loss\")\n",
        "plt.title(\"Training Loss Curve\")\n",
        "plt.legend()\n",
        "plt.show()"
      ],
      "metadata": {
        "colab": {
          "base_uri": "https://localhost:8080/",
          "height": 410
        },
        "id": "XaDrsbdklWNX",
        "outputId": "165f8360-7eaf-4b26-ad2d-6d79aea9db68"
      },
      "execution_count": null,
      "outputs": [
        {
          "output_type": "display_data",
          "data": {
            "text/plain": [
              "<Figure size 600x400 with 1 Axes>"
            ],
            "image/png": "[encoded data removed]"
          },
          "metadata": {}
        }
      ]
    },
    {
      "cell_type": "code",
      "source": [],
      "metadata": {
        "id": "bzOfDGIqlZXz"
      },
      "execution_count": null,
      "outputs": []
    }
  ]
}