{
  "nbformat": 4,
  "nbformat_minor": 0,
  "metadata": {
    "colab": {
      "provenance": []
    },
    "kernelspec": {
      "name": "python3",
      "display_name": "Python 3"
    },
    "language_info": {
      "name": "python"
    }
  },
  "cells": [
    {
      "cell_type": "code",
      "source": [
        "\n",
        "import pandas as pd\n",
        "import numpy as np\n",
        "import torch\n",
        "import torch.nn as nn\n",
        "import torch.optim as optim\n",
        "import torch.nn.functional as F\n",
        "import matplotlib.pyplot as plt\n",
        "import seaborn as sns\n",
        "from sklearn.model_selection import StratifiedKFold\n",
        "from sklearn.preprocessing import StandardScaler, LabelEncoder\n",
        "from sklearn.metrics import accuracy_score, confusion_matrix, classification_report\n",
        "from torch.utils.data import DataLoader, TensorDataset"
      ],
      "metadata": {
        "id": "cdF3Rb9NmnPd"
      },
      "execution_count": null,
      "outputs": []
    },
    {
      "cell_type": "code",
      "source": [
        "# Load dataset\n",
        "file_path = \"/content/drive/MyDrive/Colab Notebooks/SNT_dataset.csv\"\n",
        "df = pd.read_csv(file_path)\n"
      ],
      "metadata": {
        "id": "y86JmJZAmqs4"
      },
      "execution_count": null,
      "outputs": []
    },
    {
      "cell_type": "code",
      "source": [
        "# Handle Non-Numeric Columns\n",
        "non_numeric_cols = df.select_dtypes(exclude=['number']).columns\n",
        "label_encoders = {col: LabelEncoder() for col in non_numeric_cols}\n",
        "for col in non_numeric_cols:\n",
        "    df[col] = label_encoders[col].fit_transform(df[col])"
      ],
      "metadata": {
        "id": "tZT5me-0m3xO"
      },
      "execution_count": null,
      "outputs": []
    },
    {
      "cell_type": "code",
      "source": [
        "# Remove rows where the target column ('label') has NaN\n",
        "df = df.dropna(subset=['label'])"
      ],
      "metadata": {
        "id": "hV9jr-w4m7Lf"
      },
      "execution_count": null,
      "outputs": []
    },
    {
      "cell_type": "code",
      "source": [
        "# Separate Features and Target\n",
        "target_column = 'label'\n",
        "X = df.drop(columns=[target_column])\n",
        "y = df[target_column].astype(int)"
      ],
      "metadata": {
        "id": "a0lQnGT5m95M"
      },
      "execution_count": null,
      "outputs": []
    },
    {
      "cell_type": "code",
      "source": [
        "# Standardize Features\n",
        "scaler = StandardScaler()\n",
        "X_scaled = scaler.fit_transform(X)"
      ],
      "metadata": {
        "id": "6ethgkVtm_-1"
      },
      "execution_count": null,
      "outputs": []
    },
    {
      "cell_type": "code",
      "source": [
        "# Convert to numpy arrays for cross-validation\n",
        "X = np.array(X_scaled)\n",
        "y = np.array(y)"
      ],
      "metadata": {
        "id": "vno3HXpynCRW"
      },
      "execution_count": null,
      "outputs": []
    },
    {
      "cell_type": "code",
      "source": [
        "import torch\n",
        "import torch.nn as nn\n",
        "import torch.optim as optim\n",
        "import numpy as np\n",
        "from sklearn.model_selection import StratifiedKFold\n",
        "from sklearn.metrics import accuracy_score, confusion_matrix, classification_report, roc_curve, precision_recall_curve\n",
        "import matplotlib.pyplot as plt\n",
        "from torch.utils.data import DataLoader, TensorDataset\n",
        "\n",
        "# Define Model with BatchNorm, Dropout, and L2 Regularization\n",
        "class FedModel(nn.Module):\n",
        "    def __init__(self, input_size):\n",
        "        super(FedModel, self).__init__()\n",
        "        self.fc1 = nn.Linear(input_size, 64)\n",
        "        self.bn1 = nn.BatchNorm1d(64)\n",
        "        self.dropout1 = nn.Dropout(0.2)\n",
        "        self.fc2 = nn.Linear(64, 32)\n",
        "        self.bn2 = nn.BatchNorm1d(32)\n",
        "        self.dropout2 = nn.Dropout(0.2)\n",
        "        self.fc3 = nn.Linear(32, 2)\n",
        "\n",
        "    def forward(self, x):\n",
        "        x = torch.relu(self.bn1(self.fc1(x)))\n",
        "        x = self.dropout1(x)\n",
        "        x = torch.relu(self.bn2(self.fc2(x)))\n",
        "        x = self.dropout2(x)\n",
        "        x = self.fc3(x)\n",
        "        return x"
      ],
      "metadata": {
        "id": "ttscZfz8q2ol"
      },
      "execution_count": null,
      "outputs": []
    },
    {
      "cell_type": "code",
      "source": [
        "# Introduce Small Label Noise (1% Flipped Labels)\n",
        "def add_label_noise(y, noise_ratio=0.01):\n",
        "    n_samples = int(len(y) * noise_ratio)\n",
        "    flip_indices = np.random.choice(len(y), n_samples, replace=False)\n",
        "    y_noisy = y.copy()\n",
        "    y_noisy[flip_indices] = 1 - y_noisy[flip_indices]\n",
        "    return y_noisy"
      ],
      "metadata": {
        "id": "60niIw2rq_1g"
      },
      "execution_count": null,
      "outputs": []
    },
    {
      "cell_type": "code",
      "source": [
        "# Evaluate Model\n",
        "def evaluate_model(model, data_loader):\n",
        "    model.eval()\n",
        "    y_true = []\n",
        "    y_pred = []\n",
        "\n",
        "    with torch.no_grad():\n",
        "        for X_batch, y_batch in data_loader:\n",
        "            outputs = model(X_batch)\n",
        "            predictions = torch.argmax(outputs, dim=1)\n",
        "            y_true.extend(y_batch.numpy())\n",
        "            y_pred.extend(predictions.numpy())\n",
        "\n",
        "    return y_true, y_pred"
      ],
      "metadata": {
        "id": "BhfKQlh4rGQ2"
      },
      "execution_count": null,
      "outputs": []
    },
    {
      "cell_type": "code",
      "source": [
        "# Federated Training Function\n",
        "def train_federated(global_model, client_loaders, epochs=5, weight_decay=5e-4):\n",
        "    criterion = nn.CrossEntropyLoss()\n",
        "    client_models = [FedModel(input_size=X.shape[1]) for _ in range(len(client_loaders))]\n",
        "    optimizers = [optim.Adam(model.parameters(), lr=0.0005, weight_decay=weight_decay) for model in client_models]\n",
        "\n",
        "    for epoch in range(epochs):\n",
        "        for i in range(len(client_loaders)):\n",
        "            client_models[i].load_state_dict(global_model.state_dict())\n",
        "            client_models[i].train()\n",
        "            epoch_loss = 0\n",
        "            for X_batch, y_batch in client_loaders[i]:\n",
        "                optimizers[i].zero_grad()\n",
        "                outputs = client_models[i](X_batch)\n",
        "                loss = criterion(outputs, y_batch)\n",
        "                loss.backward()\n",
        "                optimizers[i].step()\n",
        "                epoch_loss += loss.item()\n",
        "\n",
        "        # Federated Averaging\n",
        "        global_model.load_state_dict(\n",
        "            {key: sum(model.state_dict()[key] for model in client_models) / len(client_models) for key in global_model.state_dict()}\n",
        "        )\n",
        "\n",
        "        print(f\"Epoch {epoch+1}/{epochs}, Loss: {epoch_loss:.4f}\")"
      ],
      "metadata": {
        "id": "AHTdAvN6rKWy"
      },
      "execution_count": null,
      "outputs": []
    },
    {
      "cell_type": "code",
      "source": [
        "# Cross-validation Federated Training with Data Noise\n",
        "def train_federated_cv(global_model, X_train, y_train, num_clients=5, epochs=5, num_folds=5):\n",
        "    skf = StratifiedKFold(n_splits=num_folds, shuffle=True, random_state=42)\n",
        "    fold_results = []\n",
        "\n",
        "    final_X_val_fold = None\n",
        "    final_y_val_fold = None\n",
        "    final_global_model = None\n",
        "\n",
        "    for fold, (train_idx, val_idx) in enumerate(skf.split(X_train, y_train)):\n",
        "        print(f\"Training Fold {fold + 1}/{num_folds}\")\n",
        "\n",
        "        X_train_fold, X_val_fold = X_train[train_idx], X_train[val_idx]\n",
        "        y_train_fold, y_val_fold = y_train[train_idx], y_train[val_idx]\n",
        "\n",
        "        # Apply Label Noise\n",
        "        y_train_fold = add_label_noise(y_train_fold)\n",
        "\n",
        "        # Save the last fold's validation data\n",
        "        if fold == num_folds - 1:\n",
        "            final_X_val_fold, final_y_val_fold = X_val_fold, y_val_fold\n",
        "\n",
        "        # Split among clients\n",
        "        X_train_split = np.array_split(X_train_fold, num_clients)\n",
        "        y_train_split = np.array_split(y_train_fold, num_clients)\n",
        "\n",
        "        client_datasets = []\n",
        "        for i in range(num_clients):\n",
        "            X_tensor = torch.tensor(X_train_split[i], dtype=torch.float32)\n",
        "            y_tensor = torch.tensor(y_train_split[i], dtype=torch.long)\n",
        "            dataset = TensorDataset(X_tensor, y_tensor)\n",
        "            client_datasets.append(DataLoader(dataset, batch_size=64, shuffle=True))\n",
        "\n",
        "        # Train federated model\n",
        "        global_model_copy = FedModel(input_size=X_train.shape[1])\n",
        "        train_federated(global_model_copy, client_datasets, epochs=epochs, weight_decay=5e-4)\n",
        "\n",
        "        # Evaluate\n",
        "        X_val_tensor = torch.tensor(X_val_fold, dtype=torch.float32)\n",
        "        y_val_tensor = torch.tensor(y_val_fold, dtype=torch.long)\n",
        "        val_dataset = TensorDataset(X_val_tensor, y_val_tensor)\n",
        "        val_loader = DataLoader(val_dataset, batch_size=64, shuffle=False)\n",
        "\n",
        "        y_true, y_pred = evaluate_model(global_model_copy, val_loader)\n",
        "        fold_accuracy = accuracy_score(y_val_fold, y_pred)\n",
        "        fold_results.append(fold_accuracy)\n",
        "\n",
        "        print(f\"Fold {fold + 1} Accuracy: {fold_accuracy:.4f}\")\n",
        "\n",
        "    final_acc = np.mean(fold_results)\n",
        "    print(f\"Cross-validation Mean Accuracy: {final_acc:.4f}, Std: {np.std(fold_results):.4f}\")\n",
        "\n",
        "    return final_acc, final_X_val_fold, final_y_val_fold, global_model_copy"
      ],
      "metadata": {
        "id": "03bXS2-crVl4"
      },
      "execution_count": null,
      "outputs": []
    },
    {
      "cell_type": "code",
      "source": [
        "# Train with Cross-validation and Get Final Validation Data\n",
        "final_accuracy, X_val_fold, y_val_fold, global_model = train_federated_cv(\n",
        "    global_model, X, y, num_clients=5, epochs=5, num_folds=5\n",
        ")\n",
        "\n",
        "# Convert validation data to tensors\n",
        "X_val_tensor = torch.tensor(X_val_fold, dtype=torch.float32)\n",
        "y_val_tensor = torch.tensor(y_val_fold, dtype=torch.long)\n",
        "\n",
        "# Get Model Predictions and Scores\n",
        "global_model.eval()\n",
        "with torch.no_grad():\n",
        "    y_scores = torch.softmax(global_model(X_val_tensor), dim=1)[:, 1].numpy()  # Probability of class 1\n",
        "    y_pred = np.round(y_scores)  # Convert probabilities to 0 or 1"
      ],
      "metadata": {
        "id": "3j1u2gnxrmUc"
      },
      "execution_count": null,
      "outputs": []
    },
    {
      "cell_type": "code",
      "source": [
        "# Plot Confusion Matrix\n",
        "def plot_confusion_matrix(y_true, y_pred):\n",
        "    cm = confusion_matrix(y_true, y_pred)\n",
        "    print(\"\\nConfusion Matrix:\\n\", cm)\n",
        "\n",
        "# Plot ROC Curve\n",
        "def plot_roc_curve(y_true, y_scores):\n",
        "    fpr, tpr, _ = roc_curve(y_true, y_scores)\n",
        "    plt.plot(fpr, tpr, label=\"ROC Curve\")\n",
        "    plt.xlabel(\"False Positive Rate\")\n",
        "    plt.ylabel(\"True Positive Rate\")\n",
        "    plt.title(\"ROC Curve\")\n",
        "    plt.legend()\n",
        "    plt.show()\n",
        "\n",
        "# Plot PR Curve\n",
        "def plot_pr_curve(y_true, y_scores):\n",
        "    precision, recall, _ = precision_recall_curve(y_true, y_scores)\n",
        "    plt.plot(recall, precision, label=\"PR Curve\")\n",
        "    plt.xlabel(\"Recall\")\n",
        "    plt.ylabel(\"Precision\")\n",
        "    plt.title(\"Precision-Recall Curve\")\n",
        "    plt.legend()\n",
        "    plt.show()\n",
        "\n",
        "# Display Results\n",
        "plot_confusion_matrix(y_val_fold, y_pred)\n",
        "plot_roc_curve(y_val_fold, y_scores)\n",
        "plot_pr_curve(y_val_fold, y_scores)\n"
      ],
      "metadata": {
        "colab": {
          "base_uri": "https://localhost:8080/",
          "height": 1000
        },
        "id": "C09HKzbEA3J3",
        "outputId": "42de5e5e-fdfe-4678-9706-659d4512c827"
      },
      "execution_count": null,
      "outputs": [
        {
          "output_type": "stream",
          "name": "stdout",
          "text": [
            "Training Fold 1/5\n",
            "Epoch 1/5, Loss: 189.7362\n",
            "Epoch 2/5, Loss: 162.0737\n",
            "Epoch 3/5, Loss: 159.6877\n",
            "Epoch 4/5, Loss: 161.3552\n",
            "Epoch 5/5, Loss: 161.2433\n",
            "Fold 1 Accuracy: 0.9507\n",
            "Training Fold 2/5\n",
            "Epoch 1/5, Loss: 193.9083\n",
            "Epoch 2/5, Loss: 165.0243\n",
            "Epoch 3/5, Loss: 163.4579\n",
            "Epoch 4/5, Loss: 163.9918\n",
            "Epoch 5/5, Loss: 164.4633\n",
            "Fold 2 Accuracy: 0.8163\n",
            "Training Fold 3/5\n",
            "Epoch 2/5, Loss: 163.8499\n",
            "Epoch 3/5, Loss: 161.6657\n",
            "Epoch 4/5, Loss: 161.3906\n",
            "Epoch 5/5, Loss: 160.8207\n",
            "Fold 3 Accuracy: 0.9210\n",
            "Training Fold 4/5\n",
            "Epoch 1/5, Loss: 206.5460\n",
            "Epoch 2/5, Loss: 164.2778\n",
            "Epoch 3/5, Loss: 163.0590\n",
            "Epoch 4/5, Loss: 161.6859\n",
            "Epoch 5/5, Loss: 162.8919\n",
            "Fold 4 Accuracy: 1.0000\n",
            "Training Fold 5/5\n",
            "Epoch 1/5, Loss: 282.4249\n",
            "Epoch 2/5, Loss: 175.0630\n",
            "Epoch 3/5, Loss: 169.4741\n",
            "Epoch 4/5, Loss: 166.3578\n",
            "Epoch 5/5, Loss: 165.4560\n",
            "Fold 5 Accuracy: 0.9980\n",
            "Cross-validation Mean Accuracy: 0.9372, Std: 0.0674\n",
            "\n",
            "Confusion Matrix:\n",
            " [[105097    418]\n",
            " [     2 101416]]\n"
          ]
        },
        {
          "output_type": "display_data",
          "data": {
            "text/plain": [
              "<Figure size 640x480 with 1 Axes>"
            ],
            "image/png": "[encoded data removed]"
          },
          "metadata": {}
        },
        {
          "output_type": "display_data",
          "data": {
            "text/plain": [
              "<Figure size 640x480 with 1 Axes>"
            ],
            "image/png": "[encoded data removed]"
          },
          "metadata": {}
        }
      ]
    },
    {
      "cell_type": "code",
      "source": [],
      "metadata": {
        "id": "zC1QJ2DMBXx5"
      },
      "execution_count": null,
      "outputs": []
    }
  ]
}